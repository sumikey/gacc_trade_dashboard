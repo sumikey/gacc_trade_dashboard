{
 "cells": [
  {
   "cell_type": "code",
   "execution_count": 1,
   "id": "8737329e-f2dd-459b-8146-e1c03c96a846",
   "metadata": {},
   "outputs": [],
   "source": [
    "import get_gacc_data"
   ]
  },
  {
   "cell_type": "code",
   "execution_count": 2,
   "id": "126c92c4-e612-4979-93d1-e6f7ef61fa78",
   "metadata": {},
   "outputs": [],
   "source": [
    "# df = get_gacc_data.get_monthly_global_trade()"
   ]
  },
  {
   "cell_type": "code",
   "execution_count": 3,
   "id": "a24446b8-fdde-4cf1-a0bd-91d9b1f18d99",
   "metadata": {},
   "outputs": [
    {
     "name": "stdout",
     "output_type": "stream",
     "text": [
      "Getting list of possible years from GACC...\n"
     ]
    }
   ],
   "source": [
    "year_list = get_gacc_data.get_fullBulletin_data_years()"
   ]
  },
  {
   "cell_type": "code",
   "execution_count": 4,
   "id": "09c51b3e-f85f-4033-aca1-b6d199366c59",
   "metadata": {},
   "outputs": [],
   "source": [
    "months_partner_links = get_gacc_data.get_monthly_partner_links(year_list)"
   ]
  },
  {
   "cell_type": "code",
   "execution_count": null,
   "id": "dfbcd574-77b8-4580-a9d5-b348f1713674",
   "metadata": {},
   "outputs": [
    {
     "name": "stdout",
     "output_type": "stream",
     "text": [
      "Collecting data for 2018-01\n",
      "Collecting data for 2018-02\n",
      "Collecting data for 2018-03\n",
      "Collecting data for 2018-04\n",
      "Collecting data for 2018-05\n",
      "Collecting data for 2018-06\n",
      "Collecting data for 2018-07\n",
      "Collecting data for 2018-08\n",
      "Collecting data for 2018-09\n",
      "Collecting data for 2018-10\n",
      "Collecting data for 2018-11\n",
      "Collecting data for 2018-12\n",
      "Collecting data for 2019-01\n",
      "Collecting data for 2019-02\n",
      "Collecting data for 2019-03\n",
      "Collecting data for 2019-04\n",
      "Collecting data for 2019-05\n",
      "Collecting data for 2019-06\n",
      "Collecting data for 2019-07\n",
      "Collecting data for 2019-08\n",
      "Collecting data for 2019-09\n",
      "Collecting data for 2019-10\n",
      "Collecting data for 2019-11\n"
     ]
    }
   ],
   "source": [
    "dict12 = get_gacc_data.get_monthly_partner_dfs(months_partner_links)"
   ]
  },
  {
   "cell_type": "code",
   "execution_count": null,
   "id": "ff95c4dc-ccc1-4ec6-bf68-578a5085401d",
   "metadata": {},
   "outputs": [],
   "source": [
    "dict12"
   ]
  }
 ],
 "metadata": {
  "kernelspec": {
   "display_name": "Python 3 (ipykernel)",
   "language": "python",
   "name": "python3"
  },
  "language_info": {
   "codemirror_mode": {
    "name": "ipython",
    "version": 3
   },
   "file_extension": ".py",
   "mimetype": "text/x-python",
   "name": "python",
   "nbconvert_exporter": "python",
   "pygments_lexer": "ipython3",
   "version": "3.8.6"
  }
 },
 "nbformat": 4,
 "nbformat_minor": 5
}
