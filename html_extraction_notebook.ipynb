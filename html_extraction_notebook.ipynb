{
 "cells": [
  {
   "cell_type": "markdown",
   "id": "57d856db-0f67-4b34-b8c1-22753a5a0007",
   "metadata": {},
   "source": [
    "## 1. Imports\n",
    "---"
   ]
  },
  {
   "cell_type": "code",
   "execution_count": 66,
   "id": "9915e0d0-ace3-45f4-8ba3-f6eec9503b37",
   "metadata": {},
   "outputs": [],
   "source": [
    "# imports\n",
    "import pandas as pd\n",
    "import requests\n",
    "from bs4 import BeautifulSoup\n",
    "import matplotlib.pyplot as plt\n",
    "import seaborn as sns"
   ]
  },
  {
   "cell_type": "markdown",
   "id": "dc7a00dc-1108-4bb3-8177-535774a5efb9",
   "metadata": {},
   "source": [
    "## 2. Making Requests to GACC\n",
    "---\n"
   ]
  },
  {
   "cell_type": "markdown",
   "id": "90c48207-0a5c-49f7-b414-33fdf485b9c2",
   "metadata": {
    "tags": []
   },
   "source": [
    "#### Getting the list of available years from the selector object for the whole Monthly Bulletin Page"
   ]
  },
  {
   "cell_type": "code",
   "execution_count": 67,
   "id": "d24244dc-69a9-4f59-a8b2-c228840b70c4",
   "metadata": {},
   "outputs": [],
   "source": [
    "# setup base url for full monthly bulletin webpage\n",
    "fullb_url = 'http://english.customs.gov.cn/statics/report/monthly.html'\n",
    "# make a get request\n",
    "fullb_response = requests.get(fullb_url)\n",
    "# use Beautiful Soup to parse and create soup\n",
    "fullb_soup = BeautifulSoup(fullb_response.text)\n"
   ]
  },
  {
   "cell_type": "code",
   "execution_count": 61,
   "id": "9e6a74c7-3da8-4d0a-8c50-2a669851c8e1",
   "metadata": {},
   "outputs": [
    {
     "name": "stdout",
     "output_type": "stream",
     "text": [
      "['2018', '2019', '2020', '2021', '2022']\n"
     ]
    }
   ],
   "source": [
    "# find the list of permissible years\n",
    "\n",
    "# find the list of years offered\n",
    "select_years = fullb_soup.find('select', id='monthlysel')\n",
    "# create and empty list\n",
    "# append the values in our stripped strings to the list \n",
    "list_years = []\n",
    "for value in select_years.stripped_strings:\n",
    "    list_years.append(value)\n",
    "\n",
    "# sort our list_years in place\n",
    "list_years.sort()\n",
    "    \n",
    "# print out to show what is in there\n",
    "print(list_years)"
   ]
  },
  {
   "cell_type": "markdown",
   "id": "2074afb6-8825-45b3-8aa6-c2e7e55f752f",
   "metadata": {},
   "source": [
    "The latest year is our base url. Previous years get appended to end of the url in the following format. \n",
    "So will need to append everything in our list of years onto the base url in a loop.  \n",
    "http://english.customs.gov.cn/statics/report/monthly2021.html"
   ]
  },
  {
   "cell_type": "markdown",
   "id": "77593a5f-cd0e-4884-a24a-4e617872608a",
   "metadata": {
    "tags": []
   },
   "source": [
    "#### Getting the lists of links to monthly aggregate data from Monthly Bulletin Page"
   ]
  },
  {
   "cell_type": "code",
   "execution_count": null,
   "id": "f00f45b0-dc38-42a5-8166-a921b18da837",
   "metadata": {},
   "outputs": [],
   "source": [
    "# setup base url for full monthly bulletin webpage\n",
    "fullb_url = 'http://english.customs.gov.cn/statics/report/monthly.html'\n",
    "# make a get request\n",
    "fullb_response = requests.get(fullb_url)\n",
    "# use Beautiful Soup to parse and create soup\n",
    "fullb_soup = BeautifulSoup(fullb_response.text)"
   ]
  },
  {
   "cell_type": "code",
   "execution_count": 77,
   "id": "349b0382-aac1-4b71-9c97-58dbf26d6750",
   "metadata": {},
   "outputs": [],
   "source": [
    "# finding the links for each monthly totals summary\n",
    "monthly_total_links = fullb_soup.find_all('td')[3].find_all('a')"
   ]
  },
  {
   "cell_type": "code",
   "execution_count": 78,
   "id": "46dab043-c55e-45a3-906e-b5069e78c6b0",
   "metadata": {},
   "outputs": [
    {
     "name": "stdout",
     "output_type": "stream",
     "text": [
      " Jan. http://english.customs.gov.cn/Statics/bb598fd1-56f0-4e6e-b087-6237c12d310c.html\n",
      " Feb. http://english.customs.gov.cn/Statics/02029b0d-835a-4c8c-a006-7877b83e2e52.html\n",
      " Mar. http://english.customs.gov.cn/Statics/6d57fff0-92af-4adb-9e19-424ea8c41198.html\n"
     ]
    }
   ],
   "source": [
    "for i in range(len(monthly_total_links)):\n",
    "    print(monthly_total_links[i].text, monthly_total_links[i]['href'])"
   ]
  },
  {
   "cell_type": "code",
   "execution_count": 181,
   "id": "0baa8d31-5ef7-4c5b-863e-718b950413fb",
   "metadata": {},
   "outputs": [
    {
     "data": {
      "text/plain": [
       "'http://english.customs.gov.cn/Statics/6d57fff0-92af-4adb-9e19-424ea8c41198.html'"
      ]
     },
     "execution_count": 181,
     "metadata": {},
     "output_type": "execute_result"
    }
   ],
   "source": [
    "monthly_total_links[-1]['href']"
   ]
  },
  {
   "cell_type": "markdown",
   "id": "73fd7701-99bc-4992-a877-6d6a13db46ae",
   "metadata": {
    "tags": []
   },
   "source": [
    "#### Getting the trade values from within the table on a given monthly trade link"
   ]
  },
  {
   "cell_type": "markdown",
   "id": "4553f3cc-dee7-410a-a95b-5cd67e45cc9c",
   "metadata": {},
   "source": [
    "Beginning with a random link (March 2022) from our found monthly totals links:  \n",
    "http://english.customs.gov.cn/Statics/6d57fff0-92af-4adb-9e19-424ea8c41198.html"
   ]
  },
  {
   "cell_type": "code",
   "execution_count": 102,
   "id": "8ec0ffa2-f028-4e20-93d7-ea96788c96d9",
   "metadata": {},
   "outputs": [],
   "source": [
    "# setup month url\n",
    "month_url = 'http://english.customs.gov.cn/Statics/6d57fff0-92af-4adb-9e19-424ea8c41198.html'"
   ]
  },
  {
   "cell_type": "code",
   "execution_count": 103,
   "id": "d62dbee0-1915-4c01-9384-5f25c4cec7c6",
   "metadata": {},
   "outputs": [],
   "source": [
    "# make a get request to this first url\n",
    "month_html_doc = requests.get(month_url)\n",
    "# parse the html with beautiful soup\n",
    "month_soup = BeautifulSoup(month_html_doc.content, 'html.parser')"
   ]
  },
  {
   "cell_type": "code",
   "execution_count": 120,
   "id": "c8eedb82-271c-408e-a31f-8f301f129029",
   "metadata": {},
   "outputs": [],
   "source": [
    "# finding a table object from our soup object\n",
    "table_object = month_soup.find('div', attrs={'class':'atcl-cnt'}).find('table')"
   ]
  },
  {
   "cell_type": "code",
   "execution_count": 182,
   "id": "0615a0b5-c130-49c4-b804-cd7de86124ac",
   "metadata": {},
   "outputs": [],
   "source": [
    "# defining an empty pandas dataframe to collect out data\n",
    "# give it column names only\n",
    "df = pd.DataFrame(columns=['date', 'export', 'import'])\n",
    "\n",
    "# delving into our table object\n",
    "\n",
    "# find all the rows in our table object\n",
    "for row in table.tbody.find_all('tr'):\n",
    "    # find all data for each column in that row\n",
    "    columns = row.find_all('td')\n",
    "    \n",
    "    # Now definte under which conditions we will add data to our dataframe\n",
    "    \n",
    "    # 1. Check it is not an empty list\n",
    "    if columns != []:\n",
    "        # 2. Check the length of the row (no columns) is greater than 4\n",
    "        if len(columns) > 4:\n",
    "            # 3. Check it's not the table header row\n",
    "            if (columns[0].text.strip() != 'Year&Month'):\n",
    "                # 4. And that date column isn't empty\n",
    "                if (columns[0].text.strip() != ''):\n",
    "\n",
    "                    # under these conditions, extract columns for date, exports & imports\n",
    "                    \n",
    "                    # remove commas so can convert to numeric\n",
    "                    # change dot for hyphen in date for pd.datetime conversion\n",
    "                    Date = columns[0].text.strip().replace('.','-')\n",
    "                    Export = columns[2].text.strip().replace(',','')\n",
    "                    Import = columns[3].text.strip().replace(',','')\n",
    "\n",
    "                    # append these new values to our empty dataframe\n",
    "                    df = df.append({'date':Date, 'export':Export, 'import':Import},\n",
    "                                    ignore_index=True)\n",
    "\n",
    "# perform some light pre-processing of our dataframe                    \n",
    "\n",
    "# convert export and import columns to numeric\n",
    "for col in df.columns[1:]:  # skip col 0, which is date\n",
    "    df[col] = pd.to_numeric(df[col], errors='coerce')\n",
    "\n",
    "# convert the date column to datetime and set as index\n",
    "df['date'] = pd.to_datetime(df.date)\n",
    "\n",
    "# set the date as the index, perform in place\n",
    "# leave the dropping of old date col as true\n",
    "df.set_index('date', drop=True, inplace=True)\n"
   ]
  },
  {
   "cell_type": "code",
   "execution_count": 184,
   "id": "18d75411-04ef-41f2-a1f9-0bd33f6129f5",
   "metadata": {},
   "outputs": [
    {
     "data": {
      "text/html": [
       "<div>\n",
       "<style scoped>\n",
       "    .dataframe tbody tr th:only-of-type {\n",
       "        vertical-align: middle;\n",
       "    }\n",
       "\n",
       "    .dataframe tbody tr th {\n",
       "        vertical-align: top;\n",
       "    }\n",
       "\n",
       "    .dataframe thead th {\n",
       "        text-align: right;\n",
       "    }\n",
       "</style>\n",
       "<table border=\"1\" class=\"dataframe\">\n",
       "  <thead>\n",
       "    <tr style=\"text-align: right;\">\n",
       "      <th></th>\n",
       "      <th>export</th>\n",
       "      <th>import</th>\n",
       "    </tr>\n",
       "    <tr>\n",
       "      <th>date</th>\n",
       "      <th></th>\n",
       "      <th></th>\n",
       "    </tr>\n",
       "  </thead>\n",
       "  <tbody>\n",
       "    <tr>\n",
       "      <th>2021-11-01</th>\n",
       "      <td>324810</td>\n",
       "      <td>252997</td>\n",
       "    </tr>\n",
       "    <tr>\n",
       "      <th>2021-12-01</th>\n",
       "      <td>340431</td>\n",
       "      <td>246161</td>\n",
       "    </tr>\n",
       "    <tr>\n",
       "      <th>2022-01-01</th>\n",
       "      <td>327303</td>\n",
       "      <td>242237</td>\n",
       "    </tr>\n",
       "    <tr>\n",
       "      <th>2022-02-01</th>\n",
       "      <td>217533</td>\n",
       "      <td>187037</td>\n",
       "    </tr>\n",
       "    <tr>\n",
       "      <th>2022-03-01</th>\n",
       "      <td>276085</td>\n",
       "      <td>228704</td>\n",
       "    </tr>\n",
       "  </tbody>\n",
       "</table>\n",
       "</div>"
      ],
      "text/plain": [
       "            export  import\n",
       "date                      \n",
       "2021-11-01  324810  252997\n",
       "2021-12-01  340431  246161\n",
       "2022-01-01  327303  242237\n",
       "2022-02-01  217533  187037\n",
       "2022-03-01  276085  228704"
      ]
     },
     "execution_count": 184,
     "metadata": {},
     "output_type": "execute_result"
    }
   ],
   "source": [
    "df.tail()"
   ]
  },
  {
   "cell_type": "markdown",
   "id": "8eb8255b-45b9-45bf-aa16-2bf739585e60",
   "metadata": {},
   "source": [
    "## Getting the values for individual countries"
   ]
  },
  {
   "cell_type": "markdown",
   "id": "71a1fea0-6560-4779-804b-b053d79d16b9",
   "metadata": {
    "tags": []
   },
   "source": [
    "#### Finding the monthly links for trade by partner country for a given year"
   ]
  },
  {
   "cell_type": "code",
   "execution_count": 264,
   "id": "70a3fbf9-6cfd-4e26-a825-9e3e760d919f",
   "metadata": {},
   "outputs": [],
   "source": [
    " # setup base url for full monthly bulletin webpage\n",
    "fullb_url = 'http://english.customs.gov.cn/statics/report/monthly2020.html'\n",
    "# make a get request\n",
    "fullb_response = requests.get(fullb_url)\n",
    "# use Beautiful Soup to parse and create soup\n",
    "fullb_soup = BeautifulSoup(fullb_response.text, 'html.parser')"
   ]
  },
  {
   "cell_type": "code",
   "execution_count": 265,
   "id": "1389f59e-f66a-494f-8a78-c8e89aaeb203",
   "metadata": {},
   "outputs": [],
   "source": [
    "# find the links to trade by partner country\n",
    "by_partner_links = fullb_soup.find_all('td')[5].find_all('a')"
   ]
  },
  {
   "cell_type": "code",
   "execution_count": 266,
   "id": "25cb7506-421f-45e2-a933-2625b4cc6630",
   "metadata": {},
   "outputs": [
    {
     "name": "stdout",
     "output_type": "stream",
     "text": [
      " Feb. http://english.customs.gov.cn/Statics/80d0f985-3280-470a-9655-99d08989f181.html\n",
      " Mar. http://english.customs.gov.cn/Statics/fdd138b9-0683-41b5-a5d2-f6d9f972c356.html\n",
      " Apr. http://english.customs.gov.cn/Statics/1b8acf14-990b-4aef-9a82-a290c7d8fce8.html\n",
      " May. http://english.customs.gov.cn/Statics/e506a1cd-d147-49cd-ab43-4c45e117c2d3.html\n",
      " Jun. http://english.customs.gov.cn/Statics/065f4924-97df-4d63-96d9-cd3398b62ea1.html\n",
      " Jul. http://english.customs.gov.cn/Statics/f685730f-74c3-47a1-83d6-ba2969cf2f7a.html\n",
      " Aug. http://english.customs.gov.cn/Statics/d598d77d-ec33-424f-be31-8265194d08ad.html\n",
      " Sep. http://english.customs.gov.cn/Statics/43e4bf5a-94d5-489d-b0f8-698ec06bc67b.html\n",
      " Oct. http://english.customs.gov.cn/Statics/7f0503da-8220-4f44-8ebb-a4d75b29f44c.html\n",
      " Nov. http://english.customs.gov.cn/Statics/4eccd49c-b5b7-4096-821d-11fc6323392f.html\n",
      " Dec. http://english.customs.gov.cn/Statics/81bd4a20-01a8-45be-bcbc-f0627fd206da.html\n"
     ]
    }
   ],
   "source": [
    "for i in range(len(by_partner_links)):\n",
    "    print(by_partner_links[i].text, by_partner_links[i]['href'])"
   ]
  },
  {
   "cell_type": "markdown",
   "id": "30830329-65fb-4a33-9983-f61d0f50c3de",
   "metadata": {},
   "source": [
    "#### Pulling the data out of a single month's trade by partner country"
   ]
  },
  {
   "cell_type": "code",
   "execution_count": 195,
   "id": "a429a37d-47dd-4dae-94b5-a3b90518a8bf",
   "metadata": {},
   "outputs": [],
   "source": [
    "# use March 2022\n",
    "\n",
    "# set the url to get\n",
    "partner_url = 'http://english.customs.gov.cn/Statics/477e7bca-487f-4b6b-877e-b73a87108faa.html'\n",
    "# use requests to retreive the response\n",
    "partner_response = requests.get(partner_url)\n",
    "# use BeautifulSoup to parse and create soup\n",
    "partner_soup = BeautifulSoup(partner_response.text, 'html.parser')\n"
   ]
  },
  {
   "cell_type": "code",
   "execution_count": 206,
   "id": "35aff950-d228-4f76-8147-f51714bdee76",
   "metadata": {},
   "outputs": [],
   "source": [
    "# find the partner table object\n",
    "partner_table = partner_soup.find('div', attrs={'class':'atcl-layout'}).find('table')"
   ]
  },
  {
   "cell_type": "code",
   "execution_count": 247,
   "id": "482d0fd5-acf0-4e62-b0b2-e0ac1db6f8da",
   "metadata": {},
   "outputs": [],
   "source": [
    "year = '2022' # will be available when looping through in our call"
   ]
  },
  {
   "cell_type": "code",
   "execution_count": 229,
   "id": "09c6b958-6979-4a91-9e2a-62128be7d110",
   "metadata": {},
   "outputs": [],
   "source": [
    "# create an empty dataframe\n",
    "df = pd.DataFrame(columns=['partner', 'export', 'import'])\n",
    "\n",
    "# find all the rows in our table object\n",
    "for row in partner_table.tbody.find_all('tr'):\n",
    "    # find all data for each column in that row\n",
    "    columns = row.find_all('td')\n",
    "    \n",
    "    # set some conditions for adding into our df\n",
    "    if columns != []:                          # not an empty list\n",
    "        if len(columns) > 6:                   # if more than 6 columns\n",
    "            if columns[0].text.strip() != '':  # removes empty rows\n",
    "                if columns[0].text.strip().isnumeric() == False: # removes time label rows\n",
    "        \n",
    "                    # extract the partner name, exports and imports columns\n",
    "                    # use relevant index of our columns object\n",
    "                    # then take text part and strip. \n",
    "                    # for exports and imports, remove commas and replace any hyphens with zero\n",
    "                    Partner = columns[0].text.strip()\n",
    "                    Exports = columns[3].text.strip().replace(',','').replace('-','0')\n",
    "                    Imports = columns[5].text.strip().replace(',','').replace('-','0')\n",
    "\n",
    "                    # append these new values to our empty dataframe\n",
    "                    df = df.append({'partner':Partner, 'export':Exports, 'import':Imports},\n",
    "                                    ignore_index=True)\n",
    "\n",
    "                    \n"
   ]
  },
  {
   "cell_type": "code",
   "execution_count": 244,
   "id": "76f5d6cf-1f14-4820-bdb3-5d6662ef823d",
   "metadata": {},
   "outputs": [],
   "source": [
    "# code for grabbing the month from the table\n",
    "# get the rows, find the columns\n",
    "# get the number contained in the first row to have a number in column 0\n",
    "# break out of loop\n",
    "for row in partner_table.tbody.find_all('tr'):\n",
    "    columns = row.find_all('td')\n",
    "    if columns[0].text.strip().isnumeric() == True:\n",
    "        month = columns[0].text.strip()\n",
    "        break"
   ]
  },
  {
   "cell_type": "code",
   "execution_count": 251,
   "id": "d3c34728-fde8-4a7b-8204-462ae590258a",
   "metadata": {},
   "outputs": [],
   "source": [
    "month_edit = month if len(month) == 2 else '0'+month\n",
    "df['date'] = year+'-'+ month_edit"
   ]
  },
  {
   "cell_type": "code",
   "execution_count": 252,
   "id": "59406476-6c28-4775-af13-9b8524fa2f07",
   "metadata": {},
   "outputs": [
    {
     "data": {
      "text/html": [
       "<div>\n",
       "<style scoped>\n",
       "    .dataframe tbody tr th:only-of-type {\n",
       "        vertical-align: middle;\n",
       "    }\n",
       "\n",
       "    .dataframe tbody tr th {\n",
       "        vertical-align: top;\n",
       "    }\n",
       "\n",
       "    .dataframe thead th {\n",
       "        text-align: right;\n",
       "    }\n",
       "</style>\n",
       "<table border=\"1\" class=\"dataframe\">\n",
       "  <thead>\n",
       "    <tr style=\"text-align: right;\">\n",
       "      <th></th>\n",
       "      <th>partner</th>\n",
       "      <th>export</th>\n",
       "      <th>import</th>\n",
       "      <th>date</th>\n",
       "    </tr>\n",
       "  </thead>\n",
       "  <tbody>\n",
       "    <tr>\n",
       "      <th>0</th>\n",
       "      <td>TOTAL</td>\n",
       "      <td>276084613</td>\n",
       "      <td>228704260</td>\n",
       "      <td>2022-03</td>\n",
       "    </tr>\n",
       "    <tr>\n",
       "      <th>1</th>\n",
       "      <td>Asia:</td>\n",
       "      <td>131493883</td>\n",
       "      <td>130322604</td>\n",
       "      <td>2022-03</td>\n",
       "    </tr>\n",
       "    <tr>\n",
       "      <th>2</th>\n",
       "      <td>Afghanistan</td>\n",
       "      <td>32000</td>\n",
       "      <td>1557</td>\n",
       "      <td>2022-03</td>\n",
       "    </tr>\n",
       "    <tr>\n",
       "      <th>3</th>\n",
       "      <td>Bahrian</td>\n",
       "      <td>177352</td>\n",
       "      <td>7084</td>\n",
       "      <td>2022-03</td>\n",
       "    </tr>\n",
       "    <tr>\n",
       "      <th>4</th>\n",
       "      <td>Bangladesh</td>\n",
       "      <td>2277953</td>\n",
       "      <td>93045</td>\n",
       "      <td>2022-03</td>\n",
       "    </tr>\n",
       "    <tr>\n",
       "      <th>...</th>\n",
       "      <td>...</td>\n",
       "      <td>...</td>\n",
       "      <td>...</td>\n",
       "      <td>...</td>\n",
       "    </tr>\n",
       "    <tr>\n",
       "      <th>245</th>\n",
       "      <td>Oth.Ocean.nes</td>\n",
       "      <td>6450</td>\n",
       "      <td>11</td>\n",
       "      <td>2022-03</td>\n",
       "    </tr>\n",
       "    <tr>\n",
       "      <th>246</th>\n",
       "      <td>Countries(reg.)unknown</td>\n",
       "      <td>0</td>\n",
       "      <td>116810</td>\n",
       "      <td>2022-03</td>\n",
       "    </tr>\n",
       "    <tr>\n",
       "      <th>247</th>\n",
       "      <td>ASEAN</td>\n",
       "      <td>41646300</td>\n",
       "      <td>33989506</td>\n",
       "      <td>2022-03</td>\n",
       "    </tr>\n",
       "    <tr>\n",
       "      <th>248</th>\n",
       "      <td>EU</td>\n",
       "      <td>44394685</td>\n",
       "      <td>24322434</td>\n",
       "      <td>2022-03</td>\n",
       "    </tr>\n",
       "    <tr>\n",
       "      <th>249</th>\n",
       "      <td>APEC</td>\n",
       "      <td>168154039</td>\n",
       "      <td>147952477</td>\n",
       "      <td>2022-03</td>\n",
       "    </tr>\n",
       "  </tbody>\n",
       "</table>\n",
       "<p>250 rows × 4 columns</p>\n",
       "</div>"
      ],
      "text/plain": [
       "                    partner     export     import     date\n",
       "0                     TOTAL  276084613  228704260  2022-03\n",
       "1                     Asia:  131493883  130322604  2022-03\n",
       "2               Afghanistan      32000       1557  2022-03\n",
       "3                   Bahrian     177352       7084  2022-03\n",
       "4                Bangladesh    2277953      93045  2022-03\n",
       "..                      ...        ...        ...      ...\n",
       "245           Oth.Ocean.nes       6450         11  2022-03\n",
       "246  Countries(reg.)unknown          0     116810  2022-03\n",
       "247                   ASEAN   41646300   33989506  2022-03\n",
       "248                      EU   44394685   24322434  2022-03\n",
       "249                    APEC  168154039  147952477  2022-03\n",
       "\n",
       "[250 rows x 4 columns]"
      ]
     },
     "execution_count": 252,
     "metadata": {},
     "output_type": "execute_result"
    }
   ],
   "source": [
    "df"
   ]
  },
  {
   "cell_type": "code",
   "execution_count": null,
   "id": "f81ba8a1-9454-4b06-87ac-026227f0198c",
   "metadata": {},
   "outputs": [],
   "source": []
  },
  {
   "cell_type": "code",
   "execution_count": null,
   "id": "a6e020e0-ca5a-4e8a-82b1-b58c19f11f72",
   "metadata": {},
   "outputs": [],
   "source": []
  },
  {
   "cell_type": "code",
   "execution_count": 221,
   "id": "6d0a3cdc-8cdb-47d4-a120-e63ebefde131",
   "metadata": {},
   "outputs": [
    {
     "data": {
      "text/plain": [
       "'228,704,260'"
      ]
     },
     "execution_count": 221,
     "metadata": {},
     "output_type": "execute_result"
    }
   ],
   "source": []
  },
  {
   "cell_type": "code",
   "execution_count": null,
   "id": "0ac8c00e-51c2-48a8-886c-5ae2d0e4a0d7",
   "metadata": {},
   "outputs": [],
   "source": []
  },
  {
   "cell_type": "markdown",
   "id": "52f9d111-c450-4ee4-922a-4f2bab8d3c36",
   "metadata": {},
   "source": [
    "# OLD / NOT USED"
   ]
  },
  {
   "cell_type": "code",
   "execution_count": 3,
   "id": "4a677b22-ee9a-4de3-8e46-d032e0ab0e2e",
   "metadata": {},
   "outputs": [],
   "source": [
    "# setup base url for gacc web page\n",
    "prelim_url = 'http://english.customs.gov.cn/statics/report/preliminary.html'\n",
    "# make a get request\n",
    "prelim_html_doc = requests.get(prelim_url)\n",
    "# parse the html with breautiful soup\n",
    "prelim_soup = BeautifulSoup(prelim_html_doc.content, 'html.parser')"
   ]
  },
  {
   "cell_type": "code",
   "execution_count": null,
   "id": "41fb009d-39dc-4678-b34b-976350a1b4c5",
   "metadata": {},
   "outputs": [],
   "source": [
    "# print out the prettified soup\n",
    "print(prelim_soup.prettify)"
   ]
  },
  {
   "cell_type": "code",
   "execution_count": 8,
   "id": "75500ee6-b38b-4f08-a878-25332b0145db",
   "metadata": {},
   "outputs": [
    {
     "name": "stdout",
     "output_type": "stream",
     "text": [
      " Feb. http://english.customs.gov.cn/Statics/26047d08-f2cd-4483-9023-9e89b5ca1686.html\n",
      " Mar. http://english.customs.gov.cn/Statics/991ba64c-f99e-4b47-8557-cc178cb2a14c.html\n"
     ]
    }
   ],
   "source": [
    "# command for finding list of exports & imports in USD\n",
    "name_href_list = prelim_soup.find_all('td')[3].find_all('a')\n",
    "for i in range(len(name_href_list)):\n",
    "    print(name_href_list[i].text, name_href_list[i]['href'])"
   ]
  },
  {
   "cell_type": "code",
   "execution_count": 42,
   "id": "5672df91-93b2-4c31-9376-e72709c9b4d6",
   "metadata": {},
   "outputs": [],
   "source": [
    "month_url = 'http://english.customs.gov.cn/Statics/991ba64c-f99e-4b47-8557-cc178cb2a14c.html'\n",
    "march_r = requests.get(month_url)\n",
    "march_soup = BeautifulSoup(march_r.content, 'html.parser')"
   ]
  },
  {
   "cell_type": "code",
   "execution_count": 50,
   "id": "688fd989-2897-432b-a9b2-7a73779af8cb",
   "metadata": {},
   "outputs": [],
   "source": [
    "exports = march_soup.find_all('b')[15]\n",
    "imports = march_soup.find_all('b')[20]"
   ]
  },
  {
   "cell_type": "code",
   "execution_count": 51,
   "id": "b126796f-cefb-4332-9fba-3d86fdf51f68",
   "metadata": {},
   "outputs": [],
   "source": [
    "month_url = 'http://english.customs.gov.cn/Statics/7043b548-0b1c-4251-83eb-f1aca196e612.html'\n",
    "march_r = requests.get(month_url)\n",
    "march_soup = BeautifulSoup(march_r.content, 'html.parser')"
   ]
  }
 ],
 "metadata": {
  "kernelspec": {
   "display_name": "Python 3 (ipykernel)",
   "language": "python",
   "name": "python3"
  },
  "language_info": {
   "codemirror_mode": {
    "name": "ipython",
    "version": 3
   },
   "file_extension": ".py",
   "mimetype": "text/x-python",
   "name": "python",
   "nbconvert_exporter": "python",
   "pygments_lexer": "ipython3",
   "version": "3.8.6"
  }
 },
 "nbformat": 4,
 "nbformat_minor": 5
}
